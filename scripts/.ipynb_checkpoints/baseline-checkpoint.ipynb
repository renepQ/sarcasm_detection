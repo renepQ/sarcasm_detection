{
 "cells": [
  {
   "cell_type": "code",
   "execution_count": 9,
   "metadata": {},
   "outputs": [],
   "source": [
    "\n",
    "import pandas as pd\n",
    "import re\n",
    "import string\n",
    "import nltk\n",
    "from sklearn.feature_extraction.text import TfidfVectorizer\n",
    "from sklearn.feature_extraction.text import CountVectorizer\n",
    "from sklearn.linear_model import LogisticRegression\n",
    "from sklearn.pipeline import Pipeline\n",
    "from sklearn.metrics import accuracy_score\n",
    "\n",
    "\n"
   ]
  },
  {
   "cell_type": "code",
   "execution_count": 11,
   "metadata": {},
   "outputs": [
    {
     "name": "stdout",
     "output_type": "stream",
     "text": [
      "training set size: 42426\n",
      "validation set size: 10606\n",
      "test set size: 17719\n",
      "(42426, 17746)\n",
      "(10606, 17746)\n",
      "(17719, 17746)\n"
     ]
    }
   ],
   "source": [
    "# read training file\n",
    "def load_data(filepath):\n",
    "    is_train = False\n",
    "    id_label = []\n",
    "    comment = []\n",
    "    parent_comment = []\n",
    "    with open(filepath) as f:\n",
    "        header = f.readline()\n",
    "        if header.strip().split()[0] == 'label':\n",
    "            is_train = True\n",
    "        for line in f:\n",
    "            row = line.strip().split(\"\\t\")\n",
    "            id_label.append(int(row[0]))\n",
    "            comment.append(row[1])\n",
    "            parent_comment.append(row[2])\n",
    "    if is_train:\n",
    "        return pd.DataFrame(data={'label':id_label, 'comment': comment, 'parent_comment': parent_comment})\n",
    "    else:\n",
    "        return pd.DataFrame(data={'id':id_label, 'comment': comment, 'parent_comment': parent_comment})\n",
    "\n",
    "dataframe = load_data('../data/train.tsv')\n",
    "dataframe = dataframe[[\"label\", \"comment\"]]\n",
    "dataframe.dropna(inplace=True)\n",
    "\n",
    "train_ratio = 0.8 # 80% for training, 20% for validation\n",
    "random_seed = 100\n",
    "\n",
    "train_dataframe = dataframe.sample(frac=train_ratio, random_state=random_seed)\n",
    "valid_dataframe = dataframe.drop(train_dataframe.index)\n",
    "\n",
    "# read test file\n",
    "test_dataframe = load_data('../data/test.tsv')\n",
    "test_dataframe = test_dataframe[[\"id\", \"comment\"]]\n",
    "test_dataframe.fillna(\"\", inplace=True)\n",
    "\n",
    "print('training set size:', len(train_dataframe))\n",
    "print('validation set size:', len(valid_dataframe))\n",
    "print('test set size:',len(test_dataframe))\n",
    "\n",
    "\n",
    "# construct corpus\n",
    "list_all_words = []\n",
    "for i in dataframe.comment:\n",
    "    words = word_tokenize(i)\n",
    "    for word in words:\n",
    "        list_all_words.append(word)\n",
    "\n",
    "# construct TF-IDF matrix for training data\n",
    "tfidf_vectorizer = TfidfVectorizer(input=list_all_words, lowercase=True, min_df=2, ngram_range=(1, 3))\n",
    "tfidf_matrix_valid = tfidf_vectorizer.fit_transform(valid_dataframe.comment)\n",
    "tfidf_matrix_train = tfidf_vectorizer.transform(train_dataframe.comment)\n",
    "tfidf_matrix_test = tfidf_vectorizer.transform(test_dataframe.comment)\n",
    "\n",
    "feature_names = tfidf_vectorizer.get_feature_names()\n",
    "\n",
    "print(tfidf_matrix_train.shape)\n",
    "print(tfidf_matrix_valid.shape)\n",
    "print(tfidf_matrix_test.shape)"
   ]
  },
  {
   "cell_type": "code",
   "execution_count": 12,
   "metadata": {},
   "outputs": [
    {
     "data": {
      "text/plain": [
       "0.7645076132560222"
      ]
     },
     "execution_count": 12,
     "metadata": {},
     "output_type": "execute_result"
    }
   ],
   "source": [
    "# construct labels\n",
    "train_list = []\n",
    "for i in train_dataframe.label:\n",
    "    train_list.append(i)\n",
    "    \n",
    "valid_list = []\n",
    "for i in valid_dataframe.label:\n",
    "    valid_list.append(i)\n",
    "y_train = pd.Series(train_list)\n",
    "y_valid=pd.Series(valid_list)\n",
    "# train Logistic Regression model\n",
    "logmodel = LogisticRegression()\n",
    "logmodel.fit(tfidf_matrix_train, y_train)\n",
    "\n",
    "logit = LogisticRegression(C=1, n_jobs=4, solver='lbfgs', \n",
    "                           random_state=17, verbose=1)\n",
    "# sklearn's pipeline\n",
    "tfidf_logit_pipeline = Pipeline([('tf_idf',tfidf_vectorizer), \n",
    "                                 ('logit', logit)])\n",
    "train_pred = logmodel.predict(tfidf_matrix_train)\n",
    "accuracy_score(y_train, train_pred)"
   ]
  },
  {
   "cell_type": "code",
   "execution_count": 13,
   "metadata": {},
   "outputs": [
    {
     "data": {
      "text/plain": [
       "0.6814067508957194"
      ]
     },
     "execution_count": 13,
     "metadata": {},
     "output_type": "execute_result"
    }
   ],
   "source": [
    "valid_pred = logmodel.predict(tfidf_matrix_valid)\n",
    "accuracy_score(y_valid, valid_pred)"
   ]
  },
  {
   "cell_type": "code",
   "execution_count": null,
   "metadata": {},
   "outputs": [],
   "source": [
    "\n",
    "\n",
    "\n"
   ]
  },
  {
   "cell_type": "code",
   "execution_count": 10,
   "metadata": {},
   "outputs": [],
   "source": [
    "y_pred = logmodel.predict(tfidf_matrix_test)\n",
    "pd.Series(y_pred).to_csv(\"LogisticRegression.csv\", header=[\"label\"], index_label=\"id\")"
   ]
  },
  {
   "cell_type": "code",
   "execution_count": null,
   "metadata": {},
   "outputs": [],
   "source": []
  }
 ],
 "metadata": {
  "kernelspec": {
   "display_name": "Python 3",
   "language": "python",
   "name": "python3"
  },
  "language_info": {
   "codemirror_mode": {
    "name": "ipython",
    "version": 3
   },
   "file_extension": ".py",
   "mimetype": "text/x-python",
   "name": "python",
   "nbconvert_exporter": "python",
   "pygments_lexer": "ipython3",
   "version": "3.7.3"
  }
 },
 "nbformat": 4,
 "nbformat_minor": 2
}

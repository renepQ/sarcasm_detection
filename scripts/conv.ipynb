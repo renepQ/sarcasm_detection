{
 "cells": [
  {
   "cell_type": "code",
   "execution_count": 5,
   "metadata": {},
   "outputs": [],
   "source": [
    "import os\n",
    "import sys\n",
    "import numpy as np\n",
    "import pandas as pd\n",
    "import matplotlib.pyplot as plt\n",
    "from keras.preprocessing.text import Tokenizer\n",
    "from keras.preprocessing.sequence import pad_sequences\n",
    "from keras.layers import Dense, Input, GlobalMaxPooling1D\n",
    "from keras.layers import Conv1D, MaxPooling1D, Embedding\n",
    "from keras.models import Model\n",
    "from sklearn.metrics import roc_auc_score\n",
    "import gensim\n",
    "word2vec = gensim.models.KeyedVectors.load_word2vec_format('../data/GoogleNews-vectors-negative300.bin', binary=True)\n",
    "\n",
    "\n"
   ]
  },
  {
   "cell_type": "code",
   "execution_count": 7,
   "metadata": {},
   "outputs": [
    {
     "name": "stdout",
     "output_type": "stream",
     "text": [
      "53032\n"
     ]
    }
   ],
   "source": [
    "def load_data(filepath):\n",
    "    is_train = False\n",
    "    id_label = []\n",
    "    comment = []\n",
    "    parent_comment = []\n",
    "    with open(filepath) as f:\n",
    "        header = f.readline()\n",
    "        if header.strip().split()[0] == 'label':\n",
    "            is_train = True\n",
    "        for line in f:\n",
    "            row = line.strip().split(\"\\t\")\n",
    "            id_label.append(int(row[0]))\n",
    "            comment.append(row[1])\n",
    "            parent_comment.append(row[2])\n",
    "    if is_train:\n",
    "        return pd.DataFrame(data={'label':id_label, 'comment': comment, 'parent_comment': parent_comment})\n",
    "    else:\n",
    "        return pd.DataFrame(data={'id':id_label, 'comment': comment, 'parent_comment': parent_comment})\n",
    "    \n",
    "dataframe = load_data('../data/train.tsv')\n",
    "print (len(dataframe))"
   ]
  },
  {
   "cell_type": "code",
   "execution_count": 58,
   "metadata": {},
   "outputs": [
    {
     "name": "stdout",
     "output_type": "stream",
     "text": [
      "training set size: 53032\n",
      "test set size: 17719\n"
     ]
    }
   ],
   "source": [
    "MAX_SEQUENCE_LENGTH = 540\n",
    "MAX_VOCAB_SIZE = 30000\n",
    "EMBEDDING_DIM = 300\n",
    "VALIDATION_SPLIT = 0.2\n",
    "BATCH_SIZE = 128\n",
    "EPOCHS = 10\n",
    "\n",
    "\n",
    "dataframe = load_data('../data/train.tsv')\n",
    "dataframe = dataframe[[\"label\", \"comment\"]]\n",
    "dataframe.dropna(inplace=True)\n",
    "\n",
    "\n",
    "\n",
    "\n",
    "\n",
    "# read test file\n",
    "test_dataframe = load_data('../data/test.tsv')\n",
    "test_dataframe = test_dataframe[[\"id\", \"comment\"]]\n",
    "test_dataframe.fillna(\"\", inplace=True)\n",
    "\n",
    "print('training set size:', len(dataframe))\n",
    "print('test set size:',len(test_dataframe))\n",
    "\n",
    "\n"
   ]
  },
  {
   "cell_type": "code",
   "execution_count": 51,
   "metadata": {},
   "outputs": [
    {
     "name": "stdout",
     "output_type": "stream",
     "text": [
      "53032\n",
      "53032\n"
     ]
    }
   ],
   "source": [
    "data = np.array(dataframe.comment)\n",
    "target_list = []\n",
    "for i in dataframe.label:\n",
    "    target_list.append(i)\n",
    "\n",
    "print(len(data))\n",
    "print(len(target_list))\n",
    "\n",
    "target= pd.Series(target_list)\n",
    "tokenizer = Tokenizer(num_words=MAX_VOCAB_SIZE)\n",
    "# convert the sentences (strings) into integers\n",
    "tokenizer.fit_on_texts(data)\n",
    "sequences = tokenizer.texts_to_sequences(data)\n",
    "#print(\"sequences:\", sequences)"
   ]
  },
  {
   "cell_type": "code",
   "execution_count": 52,
   "metadata": {},
   "outputs": [
    {
     "name": "stdout",
     "output_type": "stream",
     "text": [
      "max sequence length: 540\n",
      "min sequence length: 0\n",
      "median sequence length: 9\n",
      "Found 36383 unique tokens.\n",
      "Shape of data tensor: (53032, 540)\n"
     ]
    }
   ],
   "source": [
    "#train_x_list=train_data.tolist()\n",
    "print(\"max sequence length:\", max(len(s) for s in sequences))\n",
    "print(\"min sequence length:\", min(len(s) for s in sequences))\n",
    "s = sorted(len(s) for s in sequences)\n",
    "print(\"median sequence length:\", s[len(s) // 2])\n",
    "\n",
    "\n",
    "# get word -> integer mapping\n",
    "word2idx = tokenizer.word_index\n",
    "print('Found %s unique tokens.' % len(word2idx))\n",
    "\n",
    "\n",
    "# pad sequences so that we get a N x T matrix\n",
    "data = pad_sequences(sequences, maxlen=MAX_SEQUENCE_LENGTH)\n",
    "print('Shape of data tensor:', data.shape)\n",
    "\n",
    "\n",
    "\n"
   ]
  },
  {
   "cell_type": "code",
   "execution_count": 55,
   "metadata": {},
   "outputs": [
    {
     "name": "stdout",
     "output_type": "stream",
     "text": [
      "Filling pre-trained embeddings...\n"
     ]
    }
   ],
   "source": [
    "# prepare embedding matrix\n",
    "print('Filling pre-trained embeddings...')\n",
    "num_words = min(MAX_VOCAB_SIZE, len(word2idx) + 1)\n",
    "embedding_matrix = np.zeros((num_words, EMBEDDING_DIM))\n",
    "for word, i in word2idx.items():\n",
    "    if i < MAX_VOCAB_SIZE:\n",
    "        if(word in word2vec.vocab):\n",
    "            embedding_vector = word2vec[word]\n",
    "            if embedding_vector is not None:\n",
    "                embedding_matrix[i] = embedding_vector\n",
    "# load pre-trained word embeddings into an Embedding layer"
   ]
  },
  {
   "cell_type": "code",
   "execution_count": 59,
   "metadata": {},
   "outputs": [
    {
     "name": "stdout",
     "output_type": "stream",
     "text": [
      "Building model...\n"
     ]
    }
   ],
   "source": [
    "# note that we set trainable = False so as to keep the embeddings fixed\n",
    "embedding_layer = Embedding(\n",
    "  num_words,\n",
    "  EMBEDDING_DIM,\n",
    "  weights=[embedding_matrix],\n",
    "  input_length=MAX_SEQUENCE_LENGTH,\n",
    "  trainable=False\n",
    ")\n",
    "\n",
    "\n",
    "print('Building model...')"
   ]
  },
  {
   "cell_type": "code",
   "execution_count": null,
   "metadata": {},
   "outputs": [
    {
     "name": "stdout",
     "output_type": "stream",
     "text": [
      "Training model...\n",
      "Train on 42425 samples, validate on 10607 samples\n",
      "Epoch 1/10\n",
      "26700/42425 [=================>............] - ETA: 3:41 - loss: 0.6623 - acc: 0.5999"
     ]
    }
   ],
   "source": [
    "# train a 1D convnet with global maxpooling\n",
    "input_ = Input(shape=(MAX_SEQUENCE_LENGTH,))\n",
    "x = embedding_layer(input_)\n",
    "x = Conv1D(128, 3, activation='relu')(x)\n",
    "x = MaxPooling1D(3)(x)\n",
    "x = Conv1D(128, 3, activation='relu')(x)\n",
    "x = MaxPooling1D(3)(x)\n",
    "x = Conv1D(128, 3, activation='relu')(x)\n",
    "x = GlobalMaxPooling1D()(x)\n",
    "x = Dense(128, activation='relu')(x)\n",
    "output = Dense(1, activation='sigmoid')(x)\n",
    "\n",
    "model = Model(input_, output)\n",
    "model.compile(\n",
    "  loss='binary_crossentropy',\n",
    "  optimizer='rmsprop',\n",
    "  metrics=['accuracy']\n",
    ")\n",
    "\n",
    "print('Training model...')\n",
    "r = model.fit(\n",
    "  data,\n",
    "  target,\n",
    "  batch_size=BATCH_SIZE,\n",
    "  epochs=EPOCHS,\n",
    "  validation_split=VALIDATION_SPLIT\n",
    ")\n",
    "\n",
    "\n",
    "# plot some data\n",
    "plt.plot(r.history['loss'], label='loss')\n",
    "plt.plot(r.history['val_loss'], label='val_loss')\n",
    "plt.legend()\n",
    "plt.show()\n",
    "\n",
    "# accuracies\n",
    "plt.plot(r.history['acc'], label='acc')\n",
    "plt.plot(r.history['val_acc'], label='val_acc')\n",
    "plt.legend()\n",
    "plt.show()\n"
   ]
  },
  {
   "cell_type": "code",
   "execution_count": null,
   "metadata": {},
   "outputs": [],
   "source": []
  },
  {
   "cell_type": "code",
   "execution_count": null,
   "metadata": {},
   "outputs": [],
   "source": []
  }
 ],
 "metadata": {
  "kernelspec": {
   "display_name": "Python 3",
   "language": "python",
   "name": "python3"
  },
  "language_info": {
   "codemirror_mode": {
    "name": "ipython",
    "version": 3
   },
   "file_extension": ".py",
   "mimetype": "text/x-python",
   "name": "python",
   "nbconvert_exporter": "python",
   "pygments_lexer": "ipython3",
   "version": "3.7.3"
  }
 },
 "nbformat": 4,
 "nbformat_minor": 2
}
